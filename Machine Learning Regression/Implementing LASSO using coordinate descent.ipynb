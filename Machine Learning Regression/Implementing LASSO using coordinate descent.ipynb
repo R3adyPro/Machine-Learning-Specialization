{
 "cells": [
  {
   "cell_type": "code",
   "execution_count": 1,
   "id": "3a4e211b-d013-4d77-8534-44b61fa706f4",
   "metadata": {},
   "outputs": [],
   "source": [
    "import turicreate as tc\n",
    "import numpy as np"
   ]
  },
  {
   "cell_type": "code",
   "execution_count": 2,
   "id": "a543d1f4-7c8c-4024-a43f-a496d1612c07",
   "metadata": {},
   "outputs": [],
   "source": [
    "sales = tc.SFrame('home_data/')\n",
    "sales['floors'] = sales['floors'].astype(float).astype(int)"
   ]
  },
  {
   "cell_type": "code",
   "execution_count": 3,
   "id": "da3e96b5-fe07-4aff-87e8-defffd888edc",
   "metadata": {},
   "outputs": [],
   "source": [
    "def get_numpy_data(data_frame, features, output):\n",
    "    data_frame['constant'] = 1\n",
    "    features = ['constant'] + features\n",
    "    features_sframe = data_frame[features]\n",
    "    features_matrix = features_sframe.to_numpy()\n",
    "    output_sarray = data_frame[output]\n",
    "    output_array = output_sarray.to_numpy()\n",
    "    print(features_matrix)\n",
    "    return features_matrix, output_array"
   ]
  },
  {
   "cell_type": "code",
   "execution_count": 4,
   "id": "8e387363-a1bb-4a20-8915-861365d77dcc",
   "metadata": {},
   "outputs": [],
   "source": [
    "def predict_output(feature_matrix, weights):\n",
    "    predictions = np.dot(feature_matrix, weights)\n",
    "    return predictions"
   ]
  },
  {
   "cell_type": "code",
   "execution_count": 8,
   "id": "e583050c-8ed3-4d77-b987-603e9b187edb",
   "metadata": {},
   "outputs": [],
   "source": [
    "def normalize_features(feature_matrix):\n",
    "    norms = np.linalg.norm(feature_matrix, axis=0)\n",
    "    normalized_features = feature_matrix / norms\n",
    "    return normalized_features, norms"
   ]
  },
  {
   "cell_type": "code",
   "execution_count": 9,
   "id": "6e481fb8-f869-4b12-8aff-ed037157bfc5",
   "metadata": {},
   "outputs": [
    {
     "name": "stdout",
     "output_type": "stream",
     "text": [
      "[[0.6 0.6 0.6]\n",
      " [0.8 0.8 0.8]]\n",
      "[ 5. 10. 15.]\n"
     ]
    }
   ],
   "source": [
    "features, norms = normalize_features(np.array([[3.,6.,9.],[4.,8.,12.]]))\n",
    "print(features)\n",
    "# should print\n",
    "# [[ 0.6  0.6  0.6]\n",
    "#  [ 0.8  0.8  0.8]]\n",
    "print(norms)\n",
    "# should print\n",
    "# [5.  10.  15.]"
   ]
  },
  {
   "cell_type": "code",
   "execution_count": 10,
   "id": "d922a452-ca5d-4b3a-a93b-4a642237670f",
   "metadata": {},
   "outputs": [
    {
     "name": "stdout",
     "output_type": "stream",
     "text": [
      "[[1.00e+00 1.18e+03 3.00e+00]\n",
      " [1.00e+00 2.57e+03 3.00e+00]\n",
      " [1.00e+00 7.70e+02 2.00e+00]\n",
      " ...\n",
      " [1.00e+00 1.02e+03 2.00e+00]\n",
      " [1.00e+00 1.60e+03 3.00e+00]\n",
      " [1.00e+00 1.02e+03 2.00e+00]]\n"
     ]
    }
   ],
   "source": [
    "simple_features = ['sqft_living', 'bedrooms']\n",
    "my_output = 'price'\n",
    "simple_feature_matrix, output = get_numpy_data(sales, simple_features, my_output)"
   ]
  },
  {
   "cell_type": "code",
   "execution_count": 11,
   "id": "eebe78ca-0b32-4e42-b143-c51e02057b08",
   "metadata": {},
   "outputs": [],
   "source": [
    "simple_feature_matrix, norms = normalize_features(simple_feature_matrix)"
   ]
  },
  {
   "cell_type": "code",
   "execution_count": 12,
   "id": "1c149aa9-dfbe-4c6f-a22a-b78aca789ec3",
   "metadata": {},
   "outputs": [],
   "source": [
    "weights = np.array([1., 4., 1.])"
   ]
  },
  {
   "cell_type": "code",
   "execution_count": 15,
   "id": "657c0995-a19a-4d66-9cc3-ae3d8418f76d",
   "metadata": {},
   "outputs": [
    {
     "data": {
      "text/plain": [
       "array([0.02675867, 0.04339256, 0.01990703, ..., 0.02289873, 0.03178473,\n",
       "       0.02289873])"
      ]
     },
     "execution_count": 15,
     "metadata": {},
     "output_type": "execute_result"
    }
   ],
   "source": [
    "prediction = predict_output(simple_feature_matrix, weights)\n",
    "prediction"
   ]
  },
  {
   "cell_type": "code",
   "execution_count": 26,
   "id": "93a483d4-70cf-4f08-8d10-3eed6c39efa2",
   "metadata": {},
   "outputs": [
    {
     "data": {
      "text/plain": [
       "[79400300.03492953, 87939470.7729908, 80966698.67596525]"
      ]
     },
     "execution_count": 26,
     "metadata": {},
     "output_type": "execute_result"
    }
   ],
   "source": [
    "ro = [0 for i in range(simple_feature_matrix.shape[1])]\n",
    "for i in range((simple_feature_matrix.shape)[1]):\n",
    "    ro[i] = sum(simple_feature_matrix[:, i]*(output- prediction + weights[i]*simple_feature_matrix[:, i]))\n",
    "ro"
   ]
  },
  {
   "cell_type": "code",
   "execution_count": 28,
   "id": "b0bc62c8-6ae2-4668-a725-84d36d63394d",
   "metadata": {},
   "outputs": [
    {
     "name": "stdout",
     "output_type": "stream",
     "text": [
      "175878941.5459816\n",
      "161933397.3519305\n"
     ]
    }
   ],
   "source": [
    "print(2*ro[1])\n",
    "print(2*ro[2])"
   ]
  },
  {
   "cell_type": "code",
   "execution_count": 60,
   "id": "a4df54fd-4076-4539-9981-a694e727a9f4",
   "metadata": {},
   "outputs": [],
   "source": [
    "def to_zero(value, l1_penalty):\n",
    "    return value >= -l1_penalty/2 and value <= l1_penalty/2"
   ]
  },
  {
   "cell_type": "code",
   "execution_count": 74,
   "id": "0c776188-bdb5-4cd6-99d4-e53bfc3b4287",
   "metadata": {},
   "outputs": [
    {
     "name": "stdout",
     "output_type": "stream",
     "text": [
      "False False\n",
      "False False\n",
      "False False\n",
      "True True\n",
      "True True\n",
      "True True\n"
     ]
    }
   ],
   "source": [
    "l1_penalties = np.logspace(1, 15, num=6)\n",
    "for l1 in l1_penalties:\n",
    "    print(to_zero(ro[1], l1), to_zero(ro[2], l1))"
   ]
  },
  {
   "cell_type": "code",
   "execution_count": 94,
   "id": "808b8125-8707-476a-a67a-6b5f8afe1f09",
   "metadata": {},
   "outputs": [],
   "source": [
    "def lasso_coordinate_descent_step(i, feature_matrix, output, weights, l1_penalty):\n",
    "    # compute prediction\n",
    "    prediction = predict_output(feature_matrix, weights)\n",
    "    # compute ro[i] = SUM[ [feature_i]*(output - prediction + weight[i]*[feature_i]) ]\n",
    "    ro_i = sum(feature_matrix[:, i]* (output - prediction + weights[i]*feature_matrix[:, i]))\n",
    "\n",
    "    if i == 0: # intercept -- do not regularize\n",
    "        new_weight_i = ro_i \n",
    "    elif ro_i < -l1_penalty/2.:\n",
    "        new_weight_i = (ro_i + l1_penalty/2)\n",
    "    elif ro_i > l1_penalty/2.:\n",
    "        new_weight_i = (ro_i - l1_penalty/2)\n",
    "    else:\n",
    "        new_weight_i = 0.\n",
    "    \n",
    "    return new_weight_i"
   ]
  },
  {
   "cell_type": "code",
   "execution_count": 95,
   "id": "1f060e76-9918-4196-a438-cef531ff1e45",
   "metadata": {},
   "outputs": [
    {
     "name": "stdout",
     "output_type": "stream",
     "text": [
      "0.4255588466910251\n"
     ]
    }
   ],
   "source": [
    "import math\n",
    "print(lasso_coordinate_descent_step(1, np.array([[3./math.sqrt(13),1./math.sqrt(10)],[2./math.sqrt(13),3./math.sqrt(10)]]), \n",
    "                                    np.array([1., 1.]), np.array([1., 4.]), 0.1))\n",
    "# should print 0.425558846691"
   ]
  },
  {
   "cell_type": "code",
   "execution_count": null,
   "id": "f0748d55-81f3-432f-8e63-e560078efbed",
   "metadata": {},
   "outputs": [],
   "source": [
    "def lasso_cyclical_coordinate_descent(feature_matrix, output, initial_weights, l1_penalty, tolerance):\n",
    "    for i in range(len(weights)):\n",
    "    old_weights_i = weights[i] # remember old value of weight[i], as it will be overwritten\n",
    "    # the following line uses new values for weight[0], weight[1], ..., weight[i-1]\n",
    "    #     and old values for weight[i], ..., weight[d-1]\n",
    "    weights[i] = lasso_coordinate_descent_step(i, feature_matrix, output, weights, l1_penalty)\n",
    "    \n",
    "    # use old_weights_i to compute change in coordinate\n",
    "    "
   ]
  }
 ],
 "metadata": {
  "kernelspec": {
   "display_name": "Python 3 (ipykernel)",
   "language": "python",
   "name": "python3"
  },
  "language_info": {
   "codemirror_mode": {
    "name": "ipython",
    "version": 3
   },
   "file_extension": ".py",
   "mimetype": "text/x-python",
   "name": "python",
   "nbconvert_exporter": "python",
   "pygments_lexer": "ipython3",
   "version": "3.8.18"
  }
 },
 "nbformat": 4,
 "nbformat_minor": 5
}
