{
 "cells": [
  {
   "cell_type": "code",
   "execution_count": 1,
   "id": "c2de5636-b85a-4ced-b2ee-9aefe212961f",
   "metadata": {},
   "outputs": [],
   "source": [
    "import turicreate as tc\n",
    "import numpy as np\n",
    "from matplotlib import pyplot as plt"
   ]
  },
  {
   "cell_type": "code",
   "execution_count": 2,
   "id": "1b07dd76-dfee-435d-987f-e6416f9e0118",
   "metadata": {},
   "outputs": [],
   "source": [
    "sales = tc.SFrame('home_data/')"
   ]
  },
  {
   "cell_type": "markdown",
   "id": "92ac0afd-4e43-4e5e-bd01-5ef0a1093712",
   "metadata": {},
   "source": [
    "# Tehdää datan ominaisuuksista matrix ja array jossa on hinnat"
   ]
  },
  {
   "cell_type": "code",
   "execution_count": 3,
   "id": "8987ada6-9c9a-4eb7-bf5c-878a13ff4678",
   "metadata": {},
   "outputs": [],
   "source": [
    "def get_numpy_data(data_frame, features, output):\n",
    "    data_frame['constant'] = 1\n",
    "    features = ['constant'] + features\n",
    "    features_sframe = data_frame[features]\n",
    "    features_matrix = features_sframe.to_numpy()\n",
    "    output_sarray = data_frame[output]\n",
    "    output_array = output_sarray.to_numpy()\n",
    "    print(features_matrix)\n",
    "    return features_matrix, output_array"
   ]
  },
  {
   "cell_type": "code",
   "execution_count": 4,
   "id": "d1c9abd6-65e1-429a-8dfc-664936e8b2dd",
   "metadata": {},
   "outputs": [],
   "source": [
    "def predict_output(feature_matrix, weights):\n",
    "    predictions = np.dot(feature_matrix, weights)\n",
    "    return predictions"
   ]
  },
  {
   "cell_type": "code",
   "execution_count": 5,
   "id": "663ddd74-9b41-480a-ba6f-efca901ffa37",
   "metadata": {},
   "outputs": [],
   "source": [
    "def feature_derivative_ridge(errors, feature, weight, l2_penalty, feature_is_constant):\n",
    "    # If feature_is_constant is True, derivative is twice the dot product of errors and feature\n",
    "    if feature_is_constant is True:\n",
    "        derivative = 2 * np.dot(feature, errors)\n",
    "    # Otherwise, derivative is twice the dot product plus 2*l2_penalty*weight\n",
    "    else:\n",
    "        derivative = 2 * np.dot(feature, errors) + 2*l2_penalty*weight\n",
    "    return derivative"
   ]
  },
  {
   "cell_type": "code",
   "execution_count": 6,
   "id": "b15883c7-cb92-4712-9acc-55f4b981d27e",
   "metadata": {},
   "outputs": [
    {
     "name": "stdout",
     "output_type": "stream",
     "text": [
      "[[1.00e+00 1.18e+03]\n",
      " [1.00e+00 2.57e+03]\n",
      " [1.00e+00 7.70e+02]\n",
      " ...\n",
      " [1.00e+00 1.02e+03]\n",
      " [1.00e+00 1.60e+03]\n",
      " [1.00e+00 1.02e+03]]\n",
      "-56554166782350.0\n",
      "-56554166782350.0\n",
      "\n",
      "-22446749336.0\n",
      "-22446749336.0\n"
     ]
    }
   ],
   "source": [
    "(example_features, example_output) = get_numpy_data(sales, ['sqft_living'], 'price') \n",
    "my_weights = np.array([1., 10.])\n",
    "test_predictions = predict_output(example_features, my_weights) \n",
    "errors = test_predictions - example_output # prediction errors\n",
    "\n",
    "# next two lines should print the same values\n",
    "print(feature_derivative_ridge(errors, example_features[:,1], my_weights[1], 1, False))\n",
    "print(np.sum(errors*example_features[:,1])*2+20.)\n",
    "print('')\n",
    "\n",
    "# next two lines should print the same values\n",
    "print(feature_derivative_ridge(errors, example_features[:,0], my_weights[0], 1, True))\n",
    "print(np.sum(errors)*2.)"
   ]
  },
  {
   "cell_type": "markdown",
   "id": "00d00876-e1a2-43c0-a3aa-acaf5e4eeb84",
   "metadata": {},
   "source": [
    "# Gradient descent algorytmin tekeminen jossa otetaan L2 penalty huomioon"
   ]
  },
  {
   "cell_type": "code",
   "execution_count": 7,
   "id": "6671a04b-ad9d-42ef-990f-da8f3200a4f1",
   "metadata": {},
   "outputs": [],
   "source": [
    "def ridge_regression_gradient_descent(feature_matrix, output, initial_weights, step_size, l2_penalty, max_iterations=100):\n",
    "    print('Starting gradient descent with l2_penalty = ' + str(l2_penalty))\n",
    "    \n",
    "    weights = np.array(initial_weights) # make sure it's a numpy array\n",
    "    iteration = 0 # iteration counter\n",
    "    print_frequency = 1  # for adjusting frequency of debugging output\n",
    "    \n",
    "    #while not reached maximum number of iterations:\n",
    "    while iteration <= max_iterations:\n",
    "      # increment iteration counter\n",
    "        ### === code section for adjusting frequency of debugging output. ===\n",
    "        if iteration == 10:\n",
    "            print_frequency = 10\n",
    "        if iteration == 100:\n",
    "            print_frequency = 100\n",
    "        if iteration%print_frequency==0:\n",
    "            print('Iteration = ' + str(iteration))\n",
    "        ### === end code section ===\n",
    "        \n",
    "        # compute the predictions based on feature_matrix and weights using your predict_output() function\n",
    "        predictions = predict_output(feature_matrix, weights)\n",
    "        # compute the errors as predictions - output\n",
    "        errors = predictions - output\n",
    "        # from time to time, print the value of the cost function\n",
    "        if iteration%print_frequency==0:\n",
    "            print('Cost function = ', str(np.dot(errors,errors) + l2_penalty*(np.dot(weights,weights) - weights[0]**2)))\n",
    "        \n",
    "        for i in range(len(weights)): # loop over each weight\n",
    "            # Recall that feature_matrix[:,i] is the feature column associated with weights[i]\n",
    "            # compute the derivative for weight[i].\n",
    "            #(Remember: when i=0, you are computing the derivative of the constant!)\n",
    "            # subtract the step size times the derivative from the current weight\n",
    "            if i == 0:\n",
    "                derivative = feature_derivative_ridge(errors, feature_matrix[:, i], weights[i], 0.0, True)\n",
    "            else:\n",
    "                derivative = feature_derivative_ridge(errors, feature_matrix[:, i], weights[i], l2_penalty, False)\n",
    "            weights[i] -= step_size * derivative\n",
    "        iteration += 1\n",
    "    print('Done with gradient descent at iteration ', iteration)\n",
    "    print('Learned weights = ', str(weights))\n",
    "    return weights"
   ]
  },
  {
   "cell_type": "code",
   "execution_count": 8,
   "id": "1cddc3a2-1d6d-4a1d-8d21-a406a6fa1424",
   "metadata": {},
   "outputs": [],
   "source": [
    "simple_features = ['sqft_living']\n",
    "my_output = 'price'"
   ]
  },
  {
   "cell_type": "code",
   "execution_count": 9,
   "id": "f80f9bb3-ce54-4c5f-ab89-db8889ac2691",
   "metadata": {},
   "outputs": [],
   "source": [
    "train_data,test_data = sales.random_split(.8,seed=0)"
   ]
  },
  {
   "cell_type": "code",
   "execution_count": 10,
   "id": "b9208405-c29e-4c44-8a07-fca073444949",
   "metadata": {},
   "outputs": [
    {
     "name": "stdout",
     "output_type": "stream",
     "text": [
      "[[1.00e+00 1.18e+03]\n",
      " [1.00e+00 2.57e+03]\n",
      " [1.00e+00 7.70e+02]\n",
      " ...\n",
      " [1.00e+00 1.53e+03]\n",
      " [1.00e+00 1.60e+03]\n",
      " [1.00e+00 1.02e+03]]\n",
      "[[1.00e+00 1.43e+03]\n",
      " [1.00e+00 2.95e+03]\n",
      " [1.00e+00 1.71e+03]\n",
      " ...\n",
      " [1.00e+00 2.52e+03]\n",
      " [1.00e+00 2.31e+03]\n",
      " [1.00e+00 1.02e+03]]\n"
     ]
    }
   ],
   "source": [
    "simple_feature_matrix, output = get_numpy_data(train_data, simple_features, my_output)\n",
    "simple_test_feature_matrix, test_output = get_numpy_data(test_data, simple_features, my_output)"
   ]
  },
  {
   "cell_type": "code",
   "execution_count": 11,
   "id": "c38f49e7-4599-4340-a74b-a4ab9c8ec4e1",
   "metadata": {},
   "outputs": [],
   "source": [
    "initial_weights = np.array([0., 0.])\n",
    "step_size = 1e-12\n",
    "max_iterations=1000"
   ]
  },
  {
   "cell_type": "code",
   "execution_count": 12,
   "id": "1f8eacb9-bdc5-4cac-8841-3ecc2d9da620",
   "metadata": {},
   "outputs": [
    {
     "name": "stdout",
     "output_type": "stream",
     "text": [
      "Starting gradient descent with l2_penalty = 0.0\n",
      "Iteration = 0\n",
      "Cost function =  7433051851026171.0\n",
      "Iteration = 1\n",
      "Cost function =  5394267213135525.0\n",
      "Iteration = 2\n",
      "Cost function =  4023237736501158.0\n",
      "Iteration = 3\n",
      "Cost function =  3101256183922414.0\n",
      "Iteration = 4\n",
      "Cost function =  2481247644505113.0\n",
      "Iteration = 5\n",
      "Cost function =  2064308077891941.2\n",
      "Iteration = 6\n",
      "Cost function =  1783927097372279.5\n",
      "Iteration = 7\n",
      "Cost function =  1595378203154871.5\n",
      "Iteration = 8\n",
      "Cost function =  1468583991054997.5\n",
      "Iteration = 9\n",
      "Cost function =  1383318191484981.5\n",
      "Iteration = 10\n",
      "Cost function =  1325979165855245.5\n",
      "Iteration = 20\n",
      "Cost function =  1210477702484409.5\n",
      "Iteration = 30\n",
      "Cost function =  1208293252916462.2\n",
      "Iteration = 40\n",
      "Cost function =  1208251938286222.5\n",
      "Iteration = 50\n",
      "Cost function =  1208251156204513.0\n",
      "Iteration = 60\n",
      "Cost function =  1208251140704254.5\n",
      "Iteration = 70\n",
      "Cost function =  1208251139702150.2\n",
      "Iteration = 80\n",
      "Cost function =  1208251138974245.0\n",
      "Iteration = 90\n",
      "Cost function =  1208251138251526.8\n",
      "Iteration = 100\n",
      "Cost function =  1208251137528905.8\n",
      "Done with gradient descent at iteration  101\n",
      "Learned weights =  [7.85511563e-02 2.63024271e+02]\n"
     ]
    },
    {
     "data": {
      "text/plain": [
       "array([7.85511563e-02, 2.63024271e+02])"
      ]
     },
     "execution_count": 12,
     "metadata": {},
     "output_type": "execute_result"
    }
   ],
   "source": [
    "zero_penalty = ridge_regression_gradient_descent(simple_feature_matrix, output, initial_weights, step_size, 0.0, max_iterations = 100)\n",
    "zero_penalty"
   ]
  },
  {
   "cell_type": "code",
   "execution_count": 13,
   "id": "e1da0d88-0cfb-4fe2-b231-eb979d37bf21",
   "metadata": {},
   "outputs": [
    {
     "name": "stdout",
     "output_type": "stream",
     "text": [
      "Starting gradient descent with l2_penalty = 100000000000.0\n",
      "Iteration = 0\n",
      "Cost function =  7433051851026171.0\n",
      "Iteration = 1\n",
      "Cost function =  5618303898412630.0\n",
      "Iteration = 2\n",
      "Cost function =  4920613278115385.0\n",
      "Iteration = 3\n",
      "Cost function =  4652381942612294.0\n",
      "Iteration = 4\n",
      "Cost function =  4549258764014157.0\n",
      "Iteration = 5\n",
      "Cost function =  4509612390882265.0\n",
      "Iteration = 6\n",
      "Cost function =  4494370050281118.0\n",
      "Iteration = 7\n",
      "Cost function =  4488509984030221.0\n",
      "Iteration = 8\n",
      "Cost function =  4486256988531771.0\n",
      "Iteration = 9\n",
      "Cost function =  4485390752674687.0\n",
      "Iteration = 10\n",
      "Cost function =  4485057664747023.0\n",
      "Iteration = 20\n",
      "Cost function =  4484848749603832.0\n",
      "Iteration = 30\n",
      "Cost function =  4484847785537884.0\n",
      "Iteration = 40\n",
      "Cost function =  4484846836142211.0\n",
      "Iteration = 50\n",
      "Cost function =  4484845886747973.0\n",
      "Iteration = 60\n",
      "Cost function =  4484844937354134.0\n",
      "Iteration = 70\n",
      "Cost function =  4484843987960693.0\n",
      "Iteration = 80\n",
      "Cost function =  4484843038567651.5\n",
      "Iteration = 90\n",
      "Cost function =  4484842089175009.0\n",
      "Iteration = 100\n",
      "Cost function =  4484841139782763.0\n",
      "Done with gradient descent at iteration  101\n",
      "Learned weights =  [  1.00782291 124.57384288]\n"
     ]
    }
   ],
   "source": [
    "high_penalty = ridge_regression_gradient_descent(simple_feature_matrix, output, initial_weights, step_size, 1e11, max_iterations = 100)"
   ]
  },
  {
   "cell_type": "code",
   "execution_count": 14,
   "id": "8614ce08-47c4-4352-a2b3-f5e5f9db8302",
   "metadata": {},
   "outputs": [
    {
     "data": {
      "text/plain": [
       "[<matplotlib.lines.Line2D at 0x7fd5e1f3e670>,\n",
       " <matplotlib.lines.Line2D at 0x7fd5e1f3e730>,\n",
       " <matplotlib.lines.Line2D at 0x7fd5e1f3e610>,\n",
       " <matplotlib.lines.Line2D at 0x7fd5e1f3e940>,\n",
       " <matplotlib.lines.Line2D at 0x7fd5e1f3ea30>,\n",
       " <matplotlib.lines.Line2D at 0x7fd5e1f3eb20>]"
      ]
     },
     "execution_count": 14,
     "metadata": {},
     "output_type": "execute_result"
    },
    {
     "data": {
      "image/png": "[encoded data removed]",
      "text/plain": [
       "<Figure size 640x480 with 1 Axes>"
      ]
     },
     "metadata": {},
     "output_type": "display_data"
    }
   ],
   "source": [
    "plt.plot(simple_feature_matrix, output, 'k.',\n",
    "        simple_feature_matrix, predict_output(simple_feature_matrix, zero_penalty), 'b-',\n",
    "        simple_feature_matrix, predict_output(simple_feature_matrix, high_penalty), 'r-')"
   ]
  },
  {
   "cell_type": "code",
   "execution_count": 15,
   "id": "3f9e4e87-0ad0-41e8-885f-9c54b460368e",
   "metadata": {},
   "outputs": [],
   "source": [
    "def RSS(true, predicted):\n",
    "    return sum((true - predicted) ** 2)"
   ]
  },
  {
   "cell_type": "code",
   "execution_count": 16,
   "id": "0d2561d0-9d9d-4382-baa6-f166307a852b",
   "metadata": {},
   "outputs": [
    {
     "data": {
      "text/plain": [
       "1784273282524564.0"
      ]
     },
     "execution_count": 16,
     "metadata": {},
     "output_type": "execute_result"
    }
   ],
   "source": [
    "zeros = RSS(test_output, predict_output(simple_test_feature_matrix, initial_weights))\n",
    "zeros"
   ]
  },
  {
   "cell_type": "code",
   "execution_count": 17,
   "id": "afa236f9-c0cf-4e23-8595-6838c4bdf4a5",
   "metadata": {},
   "outputs": [
    {
     "data": {
      "text/plain": [
       "'2.7572e+14'"
      ]
     },
     "execution_count": 17,
     "metadata": {},
     "output_type": "execute_result"
    }
   ],
   "source": [
    "no_penalty = '{:.4e}'.format(RSS(test_output, predict_output(simple_test_feature_matrix, zero_penalty)))\n",
    "no_penalty"
   ]
  },
  {
   "cell_type": "code",
   "execution_count": 18,
   "id": "2af1dec7-ea1a-4713-8a83-eda7928f8581",
   "metadata": {},
   "outputs": [
    {
     "data": {
      "text/plain": [
       "694653077641344.5"
      ]
     },
     "execution_count": 18,
     "metadata": {},
     "output_type": "execute_result"
    }
   ],
   "source": [
    "penalty = RSS(test_output, predict_output(simple_test_feature_matrix, high_penalty))\n",
    "penalty"
   ]
  },
  {
   "cell_type": "markdown",
   "id": "f97a1868-2188-4820-af5c-62ad8734b172",
   "metadata": {},
   "source": [
    "# QUIZ QUESTIONS\r\n",
    "1. What is the value of the coefficient for `sqft_living` that you learned with no regularization, rounded to 1 decimal place?  What about the one with high regularization?\r\n",
    "2. Comparing the lines you fit with the with no regularization versus high regularization, which one is steeper?\r\n",
    "3. What are the RSS on the test data for each of the set of weights above (initial, no regularization, high regularizatio)? "
   ]
  },
  {
   "cell_type": "markdown",
   "id": "2fcaf0b7-b1a9-4f36-82af-97789f0bad75",
   "metadata": {},
   "source": [
    "1. Ilman L2, 2.6. L2 kanssa 124.6\n",
    "2. Ilman L2 on jyrkempi\n",
    "3. Katso ylhäältä"
   ]
  },
  {
   "cell_type": "code",
   "execution_count": 19,
   "id": "97e03a94-392d-4f5e-8ad6-c7a0f8535c47",
   "metadata": {},
   "outputs": [
    {
     "name": "stdout",
     "output_type": "stream",
     "text": [
      "[[1.00e+00 1.18e+03 1.34e+03]\n",
      " [1.00e+00 2.57e+03 1.69e+03]\n",
      " [1.00e+00 7.70e+02 2.72e+03]\n",
      " ...\n",
      " [1.00e+00 1.53e+03 1.53e+03]\n",
      " [1.00e+00 1.60e+03 1.41e+03]\n",
      " [1.00e+00 1.02e+03 1.02e+03]]\n",
      "[[1.00e+00 1.43e+03 1.78e+03]\n",
      " [1.00e+00 2.95e+03 2.14e+03]\n",
      " [1.00e+00 1.71e+03 1.03e+03]\n",
      " ...\n",
      " [1.00e+00 2.52e+03 2.52e+03]\n",
      " [1.00e+00 2.31e+03 1.83e+03]\n",
      " [1.00e+00 1.02e+03 1.02e+03]]\n"
     ]
    }
   ],
   "source": [
    "model_features = ['sqft_living', 'sqft_living15']\n",
    "my_output = 'price'\n",
    "feature_matrix, output = get_numpy_data(train_data, model_features, my_output)\n",
    "test_feature_matrix, test_output = get_numpy_data(test_data, model_features, my_output)"
   ]
  },
  {
   "cell_type": "code",
   "execution_count": 20,
   "id": "526b2377-8a54-45d8-a242-39f95f03fc59",
   "metadata": {},
   "outputs": [],
   "source": [
    "initial_weights = np.array([0.0,0.0,0.0])\n",
    "step_size = 1e-12\n",
    "max_iterations = 1000"
   ]
  },
  {
   "cell_type": "code",
   "execution_count": 21,
   "id": "449b5101-f59b-4b85-8cd9-38cfec02b0a1",
   "metadata": {},
   "outputs": [
    {
     "name": "stdout",
     "output_type": "stream",
     "text": [
      "Starting gradient descent with l2_penalty = 0.0\n",
      "Iteration = 0\n",
      "Cost function =  7433051851026171.0\n",
      "Iteration = 1\n",
      "Cost function =  4056752331500973.0\n",
      "Iteration = 2\n",
      "Cost function =  2529565114333592.5\n",
      "Iteration = 3\n",
      "Cost function =  1838556694275926.8\n",
      "Iteration = 4\n",
      "Cost function =  1525675575208603.5\n",
      "Iteration = 5\n",
      "Cost function =  1383789498674794.2\n",
      "Iteration = 6\n",
      "Cost function =  1319232606276634.8\n",
      "Iteration = 7\n",
      "Cost function =  1289648872028921.0\n",
      "Iteration = 8\n",
      "Cost function =  1275884724079267.0\n",
      "Iteration = 9\n",
      "Cost function =  1269278807577156.5\n",
      "Iteration = 10\n",
      "Cost function =  1265914378958661.2\n",
      "Iteration = 20\n",
      "Cost function =  1257193975474293.0\n",
      "Iteration = 30\n",
      "Cost function =  1251406379775540.2\n",
      "Iteration = 40\n",
      "Cost function =  1246268727321417.2\n",
      "Iteration = 50\n",
      "Cost function =  1241707409770816.5\n",
      "Iteration = 60\n",
      "Cost function =  1237657774414635.5\n",
      "Iteration = 70\n",
      "Cost function =  1234062421445731.5\n",
      "Iteration = 80\n",
      "Cost function =  1230870390088722.8\n",
      "Iteration = 90\n",
      "Cost function =  1228036436278141.8\n",
      "Iteration = 100\n",
      "Cost function =  1225520391365755.2\n",
      "Iteration = 200\n",
      "Cost function =  1211666359742571.5\n",
      "Iteration = 300\n",
      "Cost function =  1207451014857174.8\n",
      "Iteration = 400\n",
      "Cost function =  1206168411670227.2\n",
      "Iteration = 500\n",
      "Cost function =  1205778147253472.0\n",
      "Iteration = 600\n",
      "Cost function =  1205659392762471.8\n",
      "Iteration = 700\n",
      "Cost function =  1205623249990529.8\n",
      "Iteration = 800\n",
      "Cost function =  1205612243301948.2\n",
      "Iteration = 900\n",
      "Cost function =  1205608884713349.5\n",
      "Iteration = 1000\n",
      "Cost function =  1205607853195068.8\n",
      "Done with gradient descent at iteration  1001\n",
      "Learned weights =  [ -0.35780713 243.0557255   22.41312582]\n"
     ]
    }
   ],
   "source": [
    "zero_penalty = ridge_regression_gradient_descent(feature_matrix, output, initial_weights, step_size, 0.0, max_iterations)"
   ]
  },
  {
   "cell_type": "code",
   "execution_count": 22,
   "id": "c52a6d04-433b-47cf-b852-4b968acdfae2",
   "metadata": {},
   "outputs": [
    {
     "name": "stdout",
     "output_type": "stream",
     "text": [
      "Starting gradient descent with l2_penalty = 100000000000.0\n",
      "Iteration = 0\n",
      "Cost function =  7433051851026171.0\n",
      "Iteration = 1\n",
      "Cost function =  4460489790285892.0\n",
      "Iteration = 2\n",
      "Cost function =  3796674468844608.0\n",
      "Iteration = 3\n",
      "Cost function =  3648319530437360.5\n",
      "Iteration = 4\n",
      "Cost function =  3615091103216102.5\n",
      "Iteration = 5\n",
      "Cost function =  3607602742514732.0\n",
      "Iteration = 6\n",
      "Cost function =  3605886322161656.0\n",
      "Iteration = 7\n",
      "Cost function =  3605474874533295.0\n",
      "Iteration = 8\n",
      "Cost function =  3605365167765575.5\n",
      "Iteration = 9\n",
      "Cost function =  3605329402184649.0\n",
      "Iteration = 10\n",
      "Cost function =  3605314295040467.0\n",
      "Iteration = 20\n",
      "Cost function =  3605294126844584.5\n",
      "Iteration = 30\n",
      "Cost function =  3605293491022564.0\n",
      "Iteration = 40\n",
      "Cost function =  3605293037577667.5\n",
      "Iteration = 50\n",
      "Cost function =  3605292585944788.0\n",
      "Iteration = 60\n",
      "Cost function =  3605292134330050.5\n",
      "Iteration = 70\n",
      "Cost function =  3605291682715635.0\n",
      "Iteration = 80\n",
      "Cost function =  3605291231101364.0\n",
      "Iteration = 90\n",
      "Cost function =  3605290779487236.0\n",
      "Iteration = 100\n",
      "Cost function =  3605290327873251.0\n",
      "Iteration = 200\n",
      "Cost function =  3605285811741251.0\n",
      "Iteration = 300\n",
      "Cost function =  3605281295623528.0\n",
      "Iteration = 400\n",
      "Cost function =  3605276779520082.0\n",
      "Iteration = 500\n",
      "Cost function =  3605272263430913.5\n",
      "Iteration = 600\n",
      "Cost function =  3605267747356022.0\n",
      "Iteration = 700\n",
      "Cost function =  3605263231295406.0\n",
      "Iteration = 800\n",
      "Cost function =  3605258715249068.0\n",
      "Iteration = 900\n",
      "Cost function =  3605254199217006.5\n",
      "Iteration = 1000\n",
      "Cost function =  3605249683199222.0\n",
      "Done with gradient descent at iteration  1001\n",
      "Learned weights =  [ 6.74968593 91.48927271 78.43658678]\n"
     ]
    }
   ],
   "source": [
    "penalty = ridge_regression_gradient_descent(feature_matrix, output, initial_weights, step_size, 1e11, max_iterations)"
   ]
  },
  {
   "cell_type": "markdown",
   "id": "b2220e53-c42d-42a6-8365-4df26d9c132c",
   "metadata": {},
   "source": [
    "# Lasketaan ominaisuuksien painot"
   ]
  },
  {
   "cell_type": "code",
   "execution_count": 23,
   "id": "b3d54443-c39d-40d6-a615-063f12fbd9c7",
   "metadata": {},
   "outputs": [
    {
     "data": {
      "text/plain": [
       "1784273282524564.0"
      ]
     },
     "execution_count": 23,
     "metadata": {},
     "output_type": "execute_result"
    }
   ],
   "source": [
    "zeros = RSS(test_output, predict_output(test_feature_matrix, initial_weights))\n",
    "zeros"
   ]
  },
  {
   "cell_type": "code",
   "execution_count": 24,
   "id": "cdc0802b-dc09-4a00-af6d-b8ffb2a02266",
   "metadata": {},
   "outputs": [
    {
     "data": {
      "text/plain": [
       "274067694347184.22"
      ]
     },
     "execution_count": 24,
     "metadata": {},
     "output_type": "execute_result"
    }
   ],
   "source": [
    "no_penalty = RSS(test_output, predict_output(test_feature_matrix, zero_penalty))\n",
    "no_penalty"
   ]
  },
  {
   "cell_type": "code",
   "execution_count": 35,
   "id": "4af8885c-d3e4-4d74-930b-89edf3cb51ef",
   "metadata": {},
   "outputs": [
    {
     "data": {
      "text/plain": [
       "'5.0040e+14'"
      ]
     },
     "execution_count": 35,
     "metadata": {},
     "output_type": "execute_result"
    }
   ],
   "source": [
    "high_penalty = RSS(test_output, predict_output(test_feature_matrix, penalty))\n",
    "'{:.4e}'.format(high_penalty)"
   ]
  },
  {
   "cell_type": "code",
   "execution_count": 26,
   "id": "5e6f3724-5fd3-4db3-a246-fd5bc637bf3b",
   "metadata": {},
   "outputs": [
    {
     "data": {
      "text/plain": [
       "387464.69361981156"
      ]
     },
     "execution_count": 26,
     "metadata": {},
     "output_type": "execute_result"
    }
   ],
   "source": [
    "predict_output(test_feature_matrix[0], zero_penalty)"
   ]
  },
  {
   "cell_type": "code",
   "execution_count": 33,
   "id": "c9ac1b92-8266-43fd-b387-ca19bd134a7f",
   "metadata": {},
   "outputs": [
    {
     "data": {
      "text/plain": [
       "270453.53412973066"
      ]
     },
     "execution_count": 33,
     "metadata": {},
     "output_type": "execute_result"
    }
   ],
   "source": [
    "predict_output(test_feature_matrix[0], penalty)"
   ]
  },
  {
   "cell_type": "code",
   "execution_count": 34,
   "id": "1af55a67-303b-4b74-9078-6e6d9d9bd70e",
   "metadata": {},
   "outputs": [
    {
     "data": {
      "text/plain": [
       "310000.0"
      ]
     },
     "execution_count": 34,
     "metadata": {},
     "output_type": "execute_result"
    }
   ],
   "source": [
    "test_data['price'][0]"
   ]
  },
  {
   "cell_type": "markdown",
   "id": "411de1dd-cc69-4f71-ac1d-6d51a3145d6d",
   "metadata": {},
   "source": [
    "# QUIZ QUESTIONS\n",
    "1. What is the value of the coefficient for sqft_living that you learned with no regularization, rounded to 1 decimal place?  What about the one with high regularization?\n",
    "2. What are the RSS on the test data for each of the set of weights above (initial, no regularization, high regularization)? \n",
    "3. We make prediction for the first house in the test set using two sets of weights (no regularization vs high regularization). Which weights make better prediction <u>for that particular house</u>?"
   ]
  },
  {
   "cell_type": "markdown",
   "id": "c7d40ab8-40e0-4385-a688-b095e624721f",
   "metadata": {},
   "source": [
    "1. Ilman L2, 243.1. L2 kanssa 91.5\n",
    "2. Katso ylhäältä\n",
    "3. Isompi L2"
   ]
  }
 ],
 "metadata": {
  "kernelspec": {
   "display_name": "Python 3 (ipykernel)",
   "language": "python",
   "name": "python3"
  },
  "language_info": {
   "codemirror_mode": {
    "name": "ipython",
    "version": 3
   },
   "file_extension": ".py",
   "mimetype": "text/x-python",
   "name": "python",
   "nbconvert_exporter": "python",
   "pygments_lexer": "ipython3",
   "version": "3.8.18"
  }
 },
 "nbformat": 4,
 "nbformat_minor": 5
}
