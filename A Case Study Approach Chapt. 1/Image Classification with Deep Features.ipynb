{
 "cells": [
  {
   "cell_type": "code",
   "execution_count": 1,
   "id": "1ac0e15a-64c0-4f6c-8878-dcb6cc9f1c11",
   "metadata": {},
   "outputs": [],
   "source": [
    "import turicreate as tc"
   ]
  },
  {
   "cell_type": "markdown",
   "id": "7d4ec9b5-de51-4831-8e86-497f38358e91",
   "metadata": {},
   "source": [
    "# Ladataan kuva analyysi dataset"
   ]
  },
  {
   "cell_type": "code",
   "execution_count": 2,
   "id": "87539245-5819-4941-9240-426f4f960763",
   "metadata": {},
   "outputs": [],
   "source": [
    "image_train = tc.SFrame('image_train_data/')\n",
    "image_test = tc.SFrame('image_test_data/')"
   ]
  },
  {
   "cell_type": "markdown",
   "id": "a0df95d2-dd66-43ca-b236-9009df61715d",
   "metadata": {},
   "source": [
    "# Tutkitaan kuva dataa"
   ]
  },
  {
   "cell_type": "code",
   "execution_count": 3,
   "id": "21922ed2-e312-44e8-b7bf-5874ca599055",
   "metadata": {},
   "outputs": [
    {
     "data": {
      "text/plain": [
       "<bound method SArray.show of dtype: Image\n",
       "Rows: 2005\n",
       "['Height: 32 Width: 32', 'Height: 32 Width: 32', 'Height: 32 Width: 32', 'Height: 32 Width: 32', 'Height: 32 Width: 32', 'Height: 32 Width: 32', 'Height: 32 Width: 32', 'Height: 32 Width: 32', 'Height: 32 Width: 32', 'Height: 32 Width: 32', 'Height: 32 Width: 32', 'Height: 32 Width: 32', 'Height: 32 Width: 32', 'Height: 32 Width: 32', 'Height: 32 Width: 32', 'Height: 32 Width: 32', 'Height: 32 Width: 32', 'Height: 32 Width: 32', 'Height: 32 Width: 32', 'Height: 32 Width: 32', 'Height: 32 Width: 32', 'Height: 32 Width: 32', 'Height: 32 Width: 32', 'Height: 32 Width: 32', 'Height: 32 Width: 32', 'Height: 32 Width: 32', 'Height: 32 Width: 32', 'Height: 32 Width: 32', 'Height: 32 Width: 32', 'Height: 32 Width: 32', 'Height: 32 Width: 32', 'Height: 32 Width: 32', 'Height: 32 Width: 32', 'Height: 32 Width: 32', 'Height: 32 Width: 32', 'Height: 32 Width: 32', 'Height: 32 Width: 32', 'Height: 32 Width: 32', 'Height: 32 Width: 32', 'Height: 32 Width: 32', 'Height: 32 Width: 32', 'Height: 32 Width: 32', 'Height: 32 Width: 32', 'Height: 32 Width: 32', 'Height: 32 Width: 32', 'Height: 32 Width: 32', 'Height: 32 Width: 32', 'Height: 32 Width: 32', 'Height: 32 Width: 32', 'Height: 32 Width: 32', 'Height: 32 Width: 32', 'Height: 32 Width: 32', 'Height: 32 Width: 32', 'Height: 32 Width: 32', 'Height: 32 Width: 32', 'Height: 32 Width: 32', 'Height: 32 Width: 32', 'Height: 32 Width: 32', 'Height: 32 Width: 32', 'Height: 32 Width: 32', 'Height: 32 Width: 32', 'Height: 32 Width: 32', 'Height: 32 Width: 32', 'Height: 32 Width: 32', 'Height: 32 Width: 32', 'Height: 32 Width: 32', 'Height: 32 Width: 32', 'Height: 32 Width: 32', 'Height: 32 Width: 32', 'Height: 32 Width: 32', 'Height: 32 Width: 32', 'Height: 32 Width: 32', 'Height: 32 Width: 32', 'Height: 32 Width: 32', 'Height: 32 Width: 32', 'Height: 32 Width: 32', 'Height: 32 Width: 32', 'Height: 32 Width: 32', 'Height: 32 Width: 32', 'Height: 32 Width: 32', 'Height: 32 Width: 32', 'Height: 32 Width: 32', 'Height: 32 Width: 32', 'Height: 32 Width: 32', 'Height: 32 Width: 32', 'Height: 32 Width: 32', 'Height: 32 Width: 32', 'Height: 32 Width: 32', 'Height: 32 Width: 32', 'Height: 32 Width: 32', 'Height: 32 Width: 32', 'Height: 32 Width: 32', 'Height: 32 Width: 32', 'Height: 32 Width: 32', 'Height: 32 Width: 32', 'Height: 32 Width: 32', 'Height: 32 Width: 32', 'Height: 32 Width: 32', 'Height: 32 Width: 32', 'Height: 32 Width: 32', ... ]>"
      ]
     },
     "execution_count": 3,
     "metadata": {},
     "output_type": "execute_result"
    }
   ],
   "source": [
    "image_train['image'].show"
   ]
  },
  {
   "cell_type": "markdown",
   "id": "394caf68-3ecc-428d-a6dc-e654c4cfb9bf",
   "metadata": {},
   "source": [
    "# Classifierin tekeminen"
   ]
  },
  {
   "cell_type": "code",
   "execution_count": 5,
   "id": "f68c2c4b-d134-4697-940d-1595a5776356",
   "metadata": {},
   "outputs": [
    {
     "name": "stdout",
     "output_type": "stream",
     "text": [
      "PROGRESS: Creating a validation set from 5 percent of training data. This may take a while.\n",
      "          You can set ``validation_set=None`` to disable validation tracking.\n",
      "\n"
     ]
    },
    {
     "data": {
      "text/html": [
       "<pre>Logistic regression:</pre>"
      ],
      "text/plain": [
       "Logistic regression:"
      ]
     },
     "metadata": {},
     "output_type": "display_data"
    },
    {
     "data": {
      "text/html": [
       "<pre>--------------------------------------------------------</pre>"
      ],
      "text/plain": [
       "--------------------------------------------------------"
      ]
     },
     "metadata": {},
     "output_type": "display_data"
    },
    {
     "data": {
      "text/html": [
       "<pre>Number of examples          : 1904</pre>"
      ],
      "text/plain": [
       "Number of examples          : 1904"
      ]
     },
     "metadata": {},
     "output_type": "display_data"
    },
    {
     "data": {
      "text/html": [
       "<pre>Number of classes           : 4</pre>"
      ],
      "text/plain": [
       "Number of classes           : 4"
      ]
     },
     "metadata": {},
     "output_type": "display_data"
    },
    {
     "data": {
      "text/html": [
       "<pre>Number of feature columns   : 1</pre>"
      ],
      "text/plain": [
       "Number of feature columns   : 1"
      ]
     },
     "metadata": {},
     "output_type": "display_data"
    },
    {
     "data": {
      "text/html": [
       "<pre>Number of unpacked features : 3072</pre>"
      ],
      "text/plain": [
       "Number of unpacked features : 3072"
      ]
     },
     "metadata": {},
     "output_type": "display_data"
    },
    {
     "data": {
      "text/html": [
       "<pre>Number of coefficients      : 9219</pre>"
      ],
      "text/plain": [
       "Number of coefficients      : 9219"
      ]
     },
     "metadata": {},
     "output_type": "display_data"
    },
    {
     "data": {
      "text/html": [
       "<pre>Starting L-BFGS</pre>"
      ],
      "text/plain": [
       "Starting L-BFGS"
      ]
     },
     "metadata": {},
     "output_type": "display_data"
    },
    {
     "data": {
      "text/html": [
       "<pre>--------------------------------------------------------</pre>"
      ],
      "text/plain": [
       "--------------------------------------------------------"
      ]
     },
     "metadata": {},
     "output_type": "display_data"
    },
    {
     "data": {
      "text/html": [
       "<pre>+-----------+----------+-----------+--------------+-------------------+---------------------+</pre>"
      ],
      "text/plain": [
       "+-----------+----------+-----------+--------------+-------------------+---------------------+"
      ]
     },
     "metadata": {},
     "output_type": "display_data"
    },
    {
     "data": {
      "text/html": [
       "<pre>| Iteration | Passes   | Step size | Elapsed Time | Training Accuracy | Validation Accuracy |</pre>"
      ],
      "text/plain": [
       "| Iteration | Passes   | Step size | Elapsed Time | Training Accuracy | Validation Accuracy |"
      ]
     },
     "metadata": {},
     "output_type": "display_data"
    },
    {
     "data": {
      "text/html": [
       "<pre>+-----------+----------+-----------+--------------+-------------------+---------------------+</pre>"
      ],
      "text/plain": [
       "+-----------+----------+-----------+--------------+-------------------+---------------------+"
      ]
     },
     "metadata": {},
     "output_type": "display_data"
    },
    {
     "data": {
      "text/html": [
       "<pre>| 0         | 5        | 0.022963  | 1.040291     | 0.301471          | 0.277228            |</pre>"
      ],
      "text/plain": [
       "| 0         | 5        | 0.022963  | 1.040291     | 0.301471          | 0.277228            |"
      ]
     },
     "metadata": {},
     "output_type": "display_data"
    },
    {
     "data": {
      "text/html": [
       "<pre>| 1         | 10       | 1.951821  | 1.088840     | 0.387605          | 0.316832            |</pre>"
      ],
      "text/plain": [
       "| 1         | 10       | 1.951821  | 1.088840     | 0.387605          | 0.316832            |"
      ]
     },
     "metadata": {},
     "output_type": "display_data"
    },
    {
     "data": {
      "text/html": [
       "<pre>| 2         | 11       | 1.951821  | 1.107517     | 0.429097          | 0.425743            |</pre>"
      ],
      "text/plain": [
       "| 2         | 11       | 1.951821  | 1.107517     | 0.429097          | 0.425743            |"
      ]
     },
     "metadata": {},
     "output_type": "display_data"
    },
    {
     "data": {
      "text/html": [
       "<pre>| 3         | 17       | 0.683213  | 1.162173     | 0.450630          | 0.336634            |</pre>"
      ],
      "text/plain": [
       "| 3         | 17       | 0.683213  | 1.162173     | 0.450630          | 0.336634            |"
      ]
     },
     "metadata": {},
     "output_type": "display_data"
    },
    {
     "data": {
      "text/html": [
       "<pre>| 4         | 23       | 2.807940  | 1.214428     | 0.447479          | 0.376238            |</pre>"
      ],
      "text/plain": [
       "| 4         | 23       | 2.807940  | 1.214428     | 0.447479          | 0.376238            |"
      ]
     },
     "metadata": {},
     "output_type": "display_data"
    },
    {
     "data": {
      "text/html": [
       "<pre>| 9         | 35       | 1.296801  | 1.359990     | 0.530987          | 0.405941            |</pre>"
      ],
      "text/plain": [
       "| 9         | 35       | 1.296801  | 1.359990     | 0.530987          | 0.405941            |"
      ]
     },
     "metadata": {},
     "output_type": "display_data"
    },
    {
     "data": {
      "text/html": [
       "<pre>+-----------+----------+-----------+--------------+-------------------+---------------------+</pre>"
      ],
      "text/plain": [
       "+-----------+----------+-----------+--------------+-------------------+---------------------+"
      ]
     },
     "metadata": {},
     "output_type": "display_data"
    }
   ],
   "source": [
    "raw_pixel_model = tc.logistic_classifier.create(image_train, target='label', features=['image_array'])"
   ]
  },
  {
   "cell_type": "markdown",
   "id": "df4d6edb-3b52-4039-8d06-a9917c33a080",
   "metadata": {},
   "source": [
    "# Tehdään mallin avulla ennustus"
   ]
  },
  {
   "cell_type": "code",
   "execution_count": 10,
   "id": "8c58c1b9-2529-432d-936e-c9933c04c0bb",
   "metadata": {},
   "outputs": [
    {
     "data": {
      "text/plain": [
       "<bound method SArray.explore of dtype: Image\n",
       "Rows: 3\n",
       "['Height: 32 Width: 32', 'Height: 32 Width: 32', 'Height: 32 Width: 32']>"
      ]
     },
     "execution_count": 10,
     "metadata": {},
     "output_type": "execute_result"
    }
   ],
   "source": [
    "image_test[0:3]['image'].explore"
   ]
  },
  {
   "cell_type": "code",
   "execution_count": 12,
   "id": "3178048c-531a-446a-a9a3-8790b002ebb9",
   "metadata": {},
   "outputs": [
    {
     "data": {
      "text/plain": [
       "dtype: str\n",
       "Rows: 3\n",
       "['cat', 'automobile', 'cat']"
      ]
     },
     "execution_count": 12,
     "metadata": {},
     "output_type": "execute_result"
    }
   ],
   "source": [
    "image_test[0:3]['label']"
   ]
  },
  {
   "cell_type": "code",
   "execution_count": 13,
   "id": "bc6e6088-34dd-40b0-9bda-2e597fa7bdc9",
   "metadata": {},
   "outputs": [
    {
     "data": {
      "text/plain": [
       "dtype: str\n",
       "Rows: 3\n",
       "['bird', 'cat', 'bird']"
      ]
     },
     "execution_count": 13,
     "metadata": {},
     "output_type": "execute_result"
    }
   ],
   "source": [
    "raw_pixel_model.predict(image_test[0:3])"
   ]
  },
  {
   "cell_type": "markdown",
   "id": "5f463f28-1aff-4408-8fdf-07974520e48c",
   "metadata": {},
   "source": [
    "# Arvioidaan raw pixel mallin test data"
   ]
  },
  {
   "cell_type": "code",
   "execution_count": 14,
   "id": "0bc15d46-904a-43b3-b643-621ef9e5b0b0",
   "metadata": {},
   "outputs": [
    {
     "data": {
      "text/plain": [
       "{'accuracy': 0.483,\n",
       " 'auc': 0.7286239583333328,\n",
       " 'confusion_matrix': Columns:\n",
       " \ttarget_label\tstr\n",
       " \tpredicted_label\tstr\n",
       " \tcount\tint\n",
       " \n",
       " Rows: 16\n",
       " \n",
       " Data:\n",
       " +--------------+-----------------+-------+\n",
       " | target_label | predicted_label | count |\n",
       " +--------------+-----------------+-------+\n",
       " |     cat      |       cat       |  308  |\n",
       " |     dog      |    automobile   |  130  |\n",
       " |     dog      |       bird      |  260  |\n",
       " |     cat      |    automobile   |  186  |\n",
       " |     dog      |       dog       |  412  |\n",
       " |     cat      |       dog       |  302  |\n",
       " |     bird     |    automobile   |  178  |\n",
       " |  automobile  |    automobile   |  672  |\n",
       " |     bird     |       cat       |  136  |\n",
       " |  automobile  |       bird      |  105  |\n",
       " +--------------+-----------------+-------+\n",
       " [16 rows x 3 columns]\n",
       " Note: Only the head of the SFrame is printed.\n",
       " You can use print_rows(num_rows=m, num_columns=n) to print more rows and columns.,\n",
       " 'f1_score': 0.4755437619891666,\n",
       " 'log_loss': 1.1952786456055462,\n",
       " 'precision': 0.4736038715614625,\n",
       " 'recall': 0.483,\n",
       " 'roc_curve': Columns:\n",
       " \tthreshold\tfloat\n",
       " \tfpr\tfloat\n",
       " \ttpr\tfloat\n",
       " \tp\tint\n",
       " \tn\tint\n",
       " \tclass\tint\n",
       " \n",
       " Rows: 4004\n",
       " \n",
       " Data:\n",
       " +-----------+--------------------+-----+------+------+-------+\n",
       " | threshold |        fpr         | tpr |  p   |  n   | class |\n",
       " +-----------+--------------------+-----+------+------+-------+\n",
       " |    0.0    |        1.0         | 1.0 | 1000 | 3000 |   0   |\n",
       " |   0.001   |        1.0         | 1.0 | 1000 | 3000 |   0   |\n",
       " |   0.002   | 0.9993333333333333 | 1.0 | 1000 | 3000 |   0   |\n",
       " |   0.003   |       0.998        | 1.0 | 1000 | 3000 |   0   |\n",
       " |   0.004   | 0.9966666666666667 | 1.0 | 1000 | 3000 |   0   |\n",
       " |   0.005   | 0.9926666666666667 | 1.0 | 1000 | 3000 |   0   |\n",
       " |   0.006   | 0.9896666666666667 | 1.0 | 1000 | 3000 |   0   |\n",
       " |   0.007   | 0.9863333333333333 | 1.0 | 1000 | 3000 |   0   |\n",
       " |   0.008   | 0.9816666666666667 | 1.0 | 1000 | 3000 |   0   |\n",
       " |   0.009   |        0.98        | 1.0 | 1000 | 3000 |   0   |\n",
       " +-----------+--------------------+-----+------+------+-------+\n",
       " [4004 rows x 6 columns]\n",
       " Note: Only the head of the SFrame is printed.\n",
       " You can use print_rows(num_rows=m, num_columns=n) to print more rows and columns.}"
      ]
     },
     "execution_count": 14,
     "metadata": {},
     "output_type": "execute_result"
    }
   ],
   "source": [
    "raw_pixel_model.evaluate(image_test)"
   ]
  },
  {
   "cell_type": "markdown",
   "id": "db22ecda-b953-4315-bf01-ce1391f6a32a",
   "metadata": {},
   "source": [
    "# Voidaanko tulosta parantaa deep learning ominaisuuksilla"
   ]
  },
  {
   "cell_type": "code",
   "execution_count": 15,
   "id": "77d35bb8-e156-4428-af7a-fbc92d10719c",
   "metadata": {},
   "outputs": [
    {
     "data": {
      "text/plain": [
       "2005"
      ]
     },
     "execution_count": 15,
     "metadata": {},
     "output_type": "execute_result"
    }
   ],
   "source": [
    "len(image_train)"
   ]
  },
  {
   "cell_type": "code",
   "execution_count": 20,
   "id": "8e990d1e-83f5-4395-93a0-5b742d325d68",
   "metadata": {},
   "outputs": [],
   "source": [
    "#deep_learning_model = tc.load_model('imagenet_model_iter45')\n",
    "#image_train['deep_features'] = deep_learning_model.extract_features(image_train)"
   ]
  },
  {
   "cell_type": "code",
   "execution_count": 21,
   "id": "50f1ca33-d2b5-451a-a60a-f87036686985",
   "metadata": {},
   "outputs": [
    {
     "data": {
      "text/html": [
       "<div style=\"max-height:1000px;max-width:1500px;overflow:auto;\"><table frame=\"box\" rules=\"cols\">\n",
       "    <tr>\n",
       "        <th style=\"padding-left: 1em; padding-right: 1em; text-align: center\">id</th>\n",
       "        <th style=\"padding-left: 1em; padding-right: 1em; text-align: center\">image</th>\n",
       "        <th style=\"padding-left: 1em; padding-right: 1em; text-align: center\">label</th>\n",
       "        <th style=\"padding-left: 1em; padding-right: 1em; text-align: center\">deep_features</th>\n",
       "        <th style=\"padding-left: 1em; padding-right: 1em; text-align: center\">image_array</th>\n",
       "    </tr>\n",
       "    <tr>\n",
       "        <td style=\"padding-left: 1em; padding-right: 1em; text-align: center; vertical-align: top\">24</td>\n",
       "        <td style=\"padding-left: 1em; padding-right: 1em; text-align: center; vertical-align: top\">Height: 32 Width: 32</td>\n",
       "        <td style=\"padding-left: 1em; padding-right: 1em; text-align: center; vertical-align: top\">bird</td>\n",
       "        <td style=\"padding-left: 1em; padding-right: 1em; text-align: center; vertical-align: top\">[0.24287176132202148,<br>1.0954537391662598, 0.0, ...</td>\n",
       "        <td style=\"padding-left: 1em; padding-right: 1em; text-align: center; vertical-align: top\">[73.0, 77.0, 58.0, 71.0,<br>68.0, 50.0, 77.0, 69.0, ...</td>\n",
       "    </tr>\n",
       "    <tr>\n",
       "        <td style=\"padding-left: 1em; padding-right: 1em; text-align: center; vertical-align: top\">33</td>\n",
       "        <td style=\"padding-left: 1em; padding-right: 1em; text-align: center; vertical-align: top\">Height: 32 Width: 32</td>\n",
       "        <td style=\"padding-left: 1em; padding-right: 1em; text-align: center; vertical-align: top\">cat</td>\n",
       "        <td style=\"padding-left: 1em; padding-right: 1em; text-align: center; vertical-align: top\">[0.5250879526138306, 0.0,<br>0.0, 0.0, 0.0, 0.0, ...</td>\n",
       "        <td style=\"padding-left: 1em; padding-right: 1em; text-align: center; vertical-align: top\">[7.0, 5.0, 8.0, 7.0, 5.0,<br>8.0, 5.0, 4.0, 6.0, 7.0, ...</td>\n",
       "    </tr>\n",
       "    <tr>\n",
       "        <td style=\"padding-left: 1em; padding-right: 1em; text-align: center; vertical-align: top\">36</td>\n",
       "        <td style=\"padding-left: 1em; padding-right: 1em; text-align: center; vertical-align: top\">Height: 32 Width: 32</td>\n",
       "        <td style=\"padding-left: 1em; padding-right: 1em; text-align: center; vertical-align: top\">cat</td>\n",
       "        <td style=\"padding-left: 1em; padding-right: 1em; text-align: center; vertical-align: top\">[0.5660159587860107, 0.0,<br>0.0, 0.0, 0.0, 0.0, ...</td>\n",
       "        <td style=\"padding-left: 1em; padding-right: 1em; text-align: center; vertical-align: top\">[169.0, 122.0, 65.0,<br>131.0, 108.0, 75.0, ...</td>\n",
       "    </tr>\n",
       "    <tr>\n",
       "        <td style=\"padding-left: 1em; padding-right: 1em; text-align: center; vertical-align: top\">70</td>\n",
       "        <td style=\"padding-left: 1em; padding-right: 1em; text-align: center; vertical-align: top\">Height: 32 Width: 32</td>\n",
       "        <td style=\"padding-left: 1em; padding-right: 1em; text-align: center; vertical-align: top\">dog</td>\n",
       "        <td style=\"padding-left: 1em; padding-right: 1em; text-align: center; vertical-align: top\">[1.129795789718628, 0.0,<br>0.0, 0.7781944870948792, ...</td>\n",
       "        <td style=\"padding-left: 1em; padding-right: 1em; text-align: center; vertical-align: top\">[154.0, 179.0, 152.0,<br>159.0, 183.0, 157.0, ...</td>\n",
       "    </tr>\n",
       "    <tr>\n",
       "        <td style=\"padding-left: 1em; padding-right: 1em; text-align: center; vertical-align: top\">90</td>\n",
       "        <td style=\"padding-left: 1em; padding-right: 1em; text-align: center; vertical-align: top\">Height: 32 Width: 32</td>\n",
       "        <td style=\"padding-left: 1em; padding-right: 1em; text-align: center; vertical-align: top\">bird</td>\n",
       "        <td style=\"padding-left: 1em; padding-right: 1em; text-align: center; vertical-align: top\">[1.7178692817687988, 0.0,<br>0.0, 0.0, 0.0, 0.0, ...</td>\n",
       "        <td style=\"padding-left: 1em; padding-right: 1em; text-align: center; vertical-align: top\">[216.0, 195.0, 180.0,<br>201.0, 178.0, 160.0, ...</td>\n",
       "    </tr>\n",
       "    <tr>\n",
       "        <td style=\"padding-left: 1em; padding-right: 1em; text-align: center; vertical-align: top\">97</td>\n",
       "        <td style=\"padding-left: 1em; padding-right: 1em; text-align: center; vertical-align: top\">Height: 32 Width: 32</td>\n",
       "        <td style=\"padding-left: 1em; padding-right: 1em; text-align: center; vertical-align: top\">automobile</td>\n",
       "        <td style=\"padding-left: 1em; padding-right: 1em; text-align: center; vertical-align: top\">[1.5781855583190918, 0.0,<br>0.0, 0.0, 0.0, 0.0, ...</td>\n",
       "        <td style=\"padding-left: 1em; padding-right: 1em; text-align: center; vertical-align: top\">[33.0, 44.0, 27.0, 29.0,<br>44.0, 31.0, 32.0, 45.0, ...</td>\n",
       "    </tr>\n",
       "    <tr>\n",
       "        <td style=\"padding-left: 1em; padding-right: 1em; text-align: center; vertical-align: top\">107</td>\n",
       "        <td style=\"padding-left: 1em; padding-right: 1em; text-align: center; vertical-align: top\">Height: 32 Width: 32</td>\n",
       "        <td style=\"padding-left: 1em; padding-right: 1em; text-align: center; vertical-align: top\">dog</td>\n",
       "        <td style=\"padding-left: 1em; padding-right: 1em; text-align: center; vertical-align: top\">[0.0, 0.0,<br>0.22067785263061523,  ...</td>\n",
       "        <td style=\"padding-left: 1em; padding-right: 1em; text-align: center; vertical-align: top\">[97.0, 51.0, 31.0, 104.0,<br>58.0, 38.0, 107.0, 61.0, ...</td>\n",
       "    </tr>\n",
       "    <tr>\n",
       "        <td style=\"padding-left: 1em; padding-right: 1em; text-align: center; vertical-align: top\">121</td>\n",
       "        <td style=\"padding-left: 1em; padding-right: 1em; text-align: center; vertical-align: top\">Height: 32 Width: 32</td>\n",
       "        <td style=\"padding-left: 1em; padding-right: 1em; text-align: center; vertical-align: top\">bird</td>\n",
       "        <td style=\"padding-left: 1em; padding-right: 1em; text-align: center; vertical-align: top\">[0.0,<br>0.23753464221954346,  ...</td>\n",
       "        <td style=\"padding-left: 1em; padding-right: 1em; text-align: center; vertical-align: top\">[93.0, 96.0, 88.0, 102.0,<br>106.0, 97.0, 117.0, ...</td>\n",
       "    </tr>\n",
       "    <tr>\n",
       "        <td style=\"padding-left: 1em; padding-right: 1em; text-align: center; vertical-align: top\">136</td>\n",
       "        <td style=\"padding-left: 1em; padding-right: 1em; text-align: center; vertical-align: top\">Height: 32 Width: 32</td>\n",
       "        <td style=\"padding-left: 1em; padding-right: 1em; text-align: center; vertical-align: top\">automobile</td>\n",
       "        <td style=\"padding-left: 1em; padding-right: 1em; text-align: center; vertical-align: top\">[0.0, 0.0, 0.0, 0.0, 0.0,<br>0.0, 7.57378625869751, ...</td>\n",
       "        <td style=\"padding-left: 1em; padding-right: 1em; text-align: center; vertical-align: top\">[35.0, 59.0, 53.0, 36.0,<br>56.0, 56.0, 42.0, 62.0, ...</td>\n",
       "    </tr>\n",
       "    <tr>\n",
       "        <td style=\"padding-left: 1em; padding-right: 1em; text-align: center; vertical-align: top\">138</td>\n",
       "        <td style=\"padding-left: 1em; padding-right: 1em; text-align: center; vertical-align: top\">Height: 32 Width: 32</td>\n",
       "        <td style=\"padding-left: 1em; padding-right: 1em; text-align: center; vertical-align: top\">bird</td>\n",
       "        <td style=\"padding-left: 1em; padding-right: 1em; text-align: center; vertical-align: top\">[0.6589357256889343, 0.0,<br>0.0, 0.0, 0.0, 0.0, ...</td>\n",
       "        <td style=\"padding-left: 1em; padding-right: 1em; text-align: center; vertical-align: top\">[205.0, 193.0, 195.0,<br>200.0, 187.0, 193.0, ...</td>\n",
       "    </tr>\n",
       "</table>\n",
       "[2005 rows x 5 columns]<br/>Note: Only the head of the SFrame is printed.<br/>You can use print_rows(num_rows=m, num_columns=n) to print more rows and columns.\n",
       "</div>"
      ],
      "text/plain": [
       "Columns:\n",
       "\tid\tint\n",
       "\timage\tImage\n",
       "\tlabel\tstr\n",
       "\tdeep_features\tarray\n",
       "\timage_array\tarray\n",
       "\n",
       "Rows: 2005\n",
       "\n",
       "Data:\n",
       "+-----+----------------------+------------+-------------------------------+\n",
       "|  id |        image         |   label    |         deep_features         |\n",
       "+-----+----------------------+------------+-------------------------------+\n",
       "|  24 | Height: 32 Width: 32 |    bird    | [0.24287176132202148, 1.09... |\n",
       "|  33 | Height: 32 Width: 32 |    cat     | [0.5250879526138306, 0.0, ... |\n",
       "|  36 | Height: 32 Width: 32 |    cat     | [0.5660159587860107, 0.0, ... |\n",
       "|  70 | Height: 32 Width: 32 |    dog     | [1.129795789718628, 0.0, 0... |\n",
       "|  90 | Height: 32 Width: 32 |    bird    | [1.7178692817687988, 0.0, ... |\n",
       "|  97 | Height: 32 Width: 32 | automobile | [1.5781855583190918, 0.0, ... |\n",
       "| 107 | Height: 32 Width: 32 |    dog     | [0.0, 0.0, 0.2206778526306... |\n",
       "| 121 | Height: 32 Width: 32 |    bird    | [0.0, 0.23753464221954346,... |\n",
       "| 136 | Height: 32 Width: 32 | automobile | [0.0, 0.0, 0.0, 0.0, 0.0, ... |\n",
       "| 138 | Height: 32 Width: 32 |    bird    | [0.6589357256889343, 0.0, ... |\n",
       "+-----+----------------------+------------+-------------------------------+\n",
       "+-------------------------------+\n",
       "|          image_array          |\n",
       "+-------------------------------+\n",
       "| [73.0, 77.0, 58.0, 71.0, 6... |\n",
       "| [7.0, 5.0, 8.0, 7.0, 5.0, ... |\n",
       "| [169.0, 122.0, 65.0, 131.0... |\n",
       "| [154.0, 179.0, 152.0, 159.... |\n",
       "| [216.0, 195.0, 180.0, 201.... |\n",
       "| [33.0, 44.0, 27.0, 29.0, 4... |\n",
       "| [97.0, 51.0, 31.0, 104.0, ... |\n",
       "| [93.0, 96.0, 88.0, 102.0, ... |\n",
       "| [35.0, 59.0, 53.0, 36.0, 5... |\n",
       "| [205.0, 193.0, 195.0, 200.... |\n",
       "+-------------------------------+\n",
       "[2005 rows x 5 columns]\n",
       "Note: Only the head of the SFrame is printed.\n",
       "You can use print_rows(num_rows=m, num_columns=n) to print more rows and columns."
      ]
     },
     "execution_count": 21,
     "metadata": {},
     "output_type": "execute_result"
    }
   ],
   "source": [
    "image_train"
   ]
  },
  {
   "cell_type": "markdown",
   "id": "8b50ea5f-f9b7-4245-91fb-2b7de9bc1de5",
   "metadata": {},
   "source": [
    "# Tehdään uusi mallin deep learnign kanssa"
   ]
  },
  {
   "cell_type": "code",
   "execution_count": 23,
   "id": "e7d9ea21-d752-4fd9-802b-67457cf7bcab",
   "metadata": {},
   "outputs": [
    {
     "name": "stdout",
     "output_type": "stream",
     "text": [
      "PROGRESS: Creating a validation set from 5 percent of training data. This may take a while.\n",
      "          You can set ``validation_set=None`` to disable validation tracking.\n",
      "\n"
     ]
    },
    {
     "data": {
      "text/html": [
       "<pre>Logistic regression:</pre>"
      ],
      "text/plain": [
       "Logistic regression:"
      ]
     },
     "metadata": {},
     "output_type": "display_data"
    },
    {
     "data": {
      "text/html": [
       "<pre>--------------------------------------------------------</pre>"
      ],
      "text/plain": [
       "--------------------------------------------------------"
      ]
     },
     "metadata": {},
     "output_type": "display_data"
    },
    {
     "data": {
      "text/html": [
       "<pre>Number of examples          : 1904</pre>"
      ],
      "text/plain": [
       "Number of examples          : 1904"
      ]
     },
     "metadata": {},
     "output_type": "display_data"
    },
    {
     "data": {
      "text/html": [
       "<pre>Number of classes           : 4</pre>"
      ],
      "text/plain": [
       "Number of classes           : 4"
      ]
     },
     "metadata": {},
     "output_type": "display_data"
    },
    {
     "data": {
      "text/html": [
       "<pre>Number of feature columns   : 1</pre>"
      ],
      "text/plain": [
       "Number of feature columns   : 1"
      ]
     },
     "metadata": {},
     "output_type": "display_data"
    },
    {
     "data": {
      "text/html": [
       "<pre>Number of unpacked features : 4096</pre>"
      ],
      "text/plain": [
       "Number of unpacked features : 4096"
      ]
     },
     "metadata": {},
     "output_type": "display_data"
    },
    {
     "data": {
      "text/html": [
       "<pre>Number of coefficients      : 12291</pre>"
      ],
      "text/plain": [
       "Number of coefficients      : 12291"
      ]
     },
     "metadata": {},
     "output_type": "display_data"
    },
    {
     "data": {
      "text/html": [
       "<pre>Starting L-BFGS</pre>"
      ],
      "text/plain": [
       "Starting L-BFGS"
      ]
     },
     "metadata": {},
     "output_type": "display_data"
    },
    {
     "data": {
      "text/html": [
       "<pre>--------------------------------------------------------</pre>"
      ],
      "text/plain": [
       "--------------------------------------------------------"
      ]
     },
     "metadata": {},
     "output_type": "display_data"
    },
    {
     "data": {
      "text/html": [
       "<pre>+-----------+----------+-----------+--------------+-------------------+---------------------+</pre>"
      ],
      "text/plain": [
       "+-----------+----------+-----------+--------------+-------------------+---------------------+"
      ]
     },
     "metadata": {},
     "output_type": "display_data"
    },
    {
     "data": {
      "text/html": [
       "<pre>| Iteration | Passes   | Step size | Elapsed Time | Training Accuracy | Validation Accuracy |</pre>"
      ],
      "text/plain": [
       "| Iteration | Passes   | Step size | Elapsed Time | Training Accuracy | Validation Accuracy |"
      ]
     },
     "metadata": {},
     "output_type": "display_data"
    },
    {
     "data": {
      "text/html": [
       "<pre>+-----------+----------+-----------+--------------+-------------------+---------------------+</pre>"
      ],
      "text/plain": [
       "+-----------+----------+-----------+--------------+-------------------+---------------------+"
      ]
     },
     "metadata": {},
     "output_type": "display_data"
    },
    {
     "data": {
      "text/html": [
       "<pre>| 0         | 3        | 0.500000  | 0.077477     | 0.733193          | 0.693069            |</pre>"
      ],
      "text/plain": [
       "| 0         | 3        | 0.500000  | 0.077477     | 0.733193          | 0.693069            |"
      ]
     },
     "metadata": {},
     "output_type": "display_data"
    },
    {
     "data": {
      "text/html": [
       "<pre>| 1         | 6        | 0.250000  | 0.169451     | 0.763130          | 0.712871            |</pre>"
      ],
      "text/plain": [
       "| 1         | 6        | 0.250000  | 0.169451     | 0.763130          | 0.712871            |"
      ]
     },
     "metadata": {},
     "output_type": "display_data"
    },
    {
     "data": {
      "text/html": [
       "<pre>| 2         | 13       | 3.704889  | 0.350448     | 0.777836          | 0.722772            |</pre>"
      ],
      "text/plain": [
       "| 2         | 13       | 3.704889  | 0.350448     | 0.777836          | 0.722772            |"
      ]
     },
     "metadata": {},
     "output_type": "display_data"
    },
    {
     "data": {
      "text/html": [
       "<pre>| 3         | 15       | 3.148009  | 0.430988     | 0.168067          | 0.227723            |</pre>"
      ],
      "text/plain": [
       "| 3         | 15       | 3.148009  | 0.430988     | 0.168067          | 0.227723            |"
      ]
     },
     "metadata": {},
     "output_type": "display_data"
    },
    {
     "data": {
      "text/html": [
       "<pre>| 4         | 17       | 1.000000  | 0.508235     | 0.767857          | 0.673267            |</pre>"
      ],
      "text/plain": [
       "| 4         | 17       | 1.000000  | 0.508235     | 0.767857          | 0.673267            |"
      ]
     },
     "metadata": {},
     "output_type": "display_data"
    },
    {
     "data": {
      "text/html": [
       "<pre>| 9         | 24       | 1.000000  | 0.820159     | 0.915441          | 0.851485            |</pre>"
      ],
      "text/plain": [
       "| 9         | 24       | 1.000000  | 0.820159     | 0.915441          | 0.851485            |"
      ]
     },
     "metadata": {},
     "output_type": "display_data"
    },
    {
     "data": {
      "text/html": [
       "<pre>+-----------+----------+-----------+--------------+-------------------+---------------------+</pre>"
      ],
      "text/plain": [
       "+-----------+----------+-----------+--------------+-------------------+---------------------+"
      ]
     },
     "metadata": {},
     "output_type": "display_data"
    }
   ],
   "source": [
    "deep_features_model = tc.logistic_classifier.create(image_train, features=['deep_features'], target='label')"
   ]
  },
  {
   "cell_type": "markdown",
   "id": "a7332a21-6a35-4791-a4ea-10738aa63a5d",
   "metadata": {},
   "source": [
    "# Käytetään deep leaning mallia kuvissa"
   ]
  },
  {
   "cell_type": "code",
   "execution_count": 24,
   "id": "34f1c85c-bb3b-44c9-b8e9-8f87bb27c1d9",
   "metadata": {},
   "outputs": [
    {
     "data": {
      "text/plain": [
       "dtype: str\n",
       "Rows: 3\n",
       "['cat', 'automobile', 'cat']"
      ]
     },
     "execution_count": 24,
     "metadata": {},
     "output_type": "execute_result"
    }
   ],
   "source": [
    "deep_features_model.predict(image_test[0:3])"
   ]
  },
  {
   "cell_type": "markdown",
   "id": "ed9aaaab-9199-4e7a-ba84-59e6228aa9e0",
   "metadata": {},
   "source": [
    "# Arvioidaan deep learning mallin tarkkuus"
   ]
  },
  {
   "cell_type": "code",
   "execution_count": 26,
   "id": "7c615111-5e1a-4a97-b4e2-fce51b814031",
   "metadata": {},
   "outputs": [
    {
     "data": {
      "text/plain": [
       "{'accuracy': 0.79475,\n",
       " 'auc': 0.9402070000000003,\n",
       " 'confusion_matrix': Columns:\n",
       " \ttarget_label\tstr\n",
       " \tpredicted_label\tstr\n",
       " \tcount\tint\n",
       " \n",
       " Rows: 16\n",
       " \n",
       " Data:\n",
       " +--------------+-----------------+-------+\n",
       " | target_label | predicted_label | count |\n",
       " +--------------+-----------------+-------+\n",
       " |     cat      |       cat       |  656  |\n",
       " |     bird     |    automobile   |   11  |\n",
       " |  automobile  |    automobile   |  951  |\n",
       " |  automobile  |       dog       |   10  |\n",
       " |     cat      |       bird      |   76  |\n",
       " |     bird     |       dog       |   57  |\n",
       " |  automobile  |       bird      |   18  |\n",
       " |     bird     |       bird      |  813  |\n",
       " |  automobile  |       cat       |   21  |\n",
       " |     dog      |    automobile   |   7   |\n",
       " +--------------+-----------------+-------+\n",
       " [16 rows x 3 columns]\n",
       " Note: Only the head of the SFrame is printed.\n",
       " You can use print_rows(num_rows=m, num_columns=n) to print more rows and columns.,\n",
       " 'f1_score': 0.7953714475744577,\n",
       " 'log_loss': 0.6290673882293601,\n",
       " 'precision': 0.7967127570934025,\n",
       " 'recall': 0.7947500000000001,\n",
       " 'roc_curve': Columns:\n",
       " \tthreshold\tfloat\n",
       " \tfpr\tfloat\n",
       " \ttpr\tfloat\n",
       " \tp\tint\n",
       " \tn\tint\n",
       " \tclass\tint\n",
       " \n",
       " Rows: 4004\n",
       " \n",
       " Data:\n",
       " +-----------+---------------------+-------+------+------+-------+\n",
       " | threshold |         fpr         |  tpr  |  p   |  n   | class |\n",
       " +-----------+---------------------+-------+------+------+-------+\n",
       " |    0.0    |         1.0         |  1.0  | 1000 | 3000 |   0   |\n",
       " |   0.001   | 0.31966666666666665 | 0.999 | 1000 | 3000 |   0   |\n",
       " |   0.002   | 0.24466666666666667 | 0.999 | 1000 | 3000 |   0   |\n",
       " |   0.003   | 0.21233333333333335 | 0.998 | 1000 | 3000 |   0   |\n",
       " |   0.004   | 0.18733333333333332 | 0.998 | 1000 | 3000 |   0   |\n",
       " |   0.005   | 0.16866666666666666 | 0.998 | 1000 | 3000 |   0   |\n",
       " |   0.006   |        0.156        | 0.998 | 1000 | 3000 |   0   |\n",
       " |   0.007   | 0.14666666666666667 | 0.998 | 1000 | 3000 |   0   |\n",
       " |   0.008   | 0.13933333333333334 | 0.996 | 1000 | 3000 |   0   |\n",
       " |   0.009   |        0.132        | 0.995 | 1000 | 3000 |   0   |\n",
       " +-----------+---------------------+-------+------+------+-------+\n",
       " [4004 rows x 6 columns]\n",
       " Note: Only the head of the SFrame is printed.\n",
       " You can use print_rows(num_rows=m, num_columns=n) to print more rows and columns.}"
      ]
     },
     "execution_count": 26,
     "metadata": {},
     "output_type": "execute_result"
    }
   ],
   "source": [
    "deep_features_model.evaluate(image_test)"
   ]
  },
  {
   "cell_type": "code",
   "execution_count": null,
   "id": "5ba1ef52-05f6-4fbf-90c2-c4e5df35969b",
   "metadata": {},
   "outputs": [],
   "source": []
  }
 ],
 "metadata": {
  "kernelspec": {
   "display_name": "Python 3 (ipykernel)",
   "language": "python",
   "name": "python3"
  },
  "language_info": {
   "codemirror_mode": {
    "name": "ipython",
    "version": 3
   },
   "file_extension": ".py",
   "mimetype": "text/x-python",
   "name": "python",
   "nbconvert_exporter": "python",
   "pygments_lexer": "ipython3",
   "version": "3.8.18"
  }
 },
 "nbformat": 4,
 "nbformat_minor": 5
}
